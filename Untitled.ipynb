{
 "cells": [
  {
   "cell_type": "markdown",
   "id": "c5cc129e-f6a9-4a1d-b285-90dd84be7c52",
   "metadata": {},
   "source": [
    "##### Q1- What is the difference between a function and a method in python?"
   ]
  },
  {
   "cell_type": "code",
   "execution_count": null,
   "id": "85fc54dc-54de-4951-821d-c15309b27429",
   "metadata": {},
   "outputs": [
    {
     "name": "stdin",
     "output_type": "stream",
     "text": [
      "Enter input number :  4\n"
     ]
    },
    {
     "name": "stdout",
     "output_type": "stream",
     "text": [
      "The factorial of 4 is 24\n",
      "I am Vikram\n"
     ]
    }
   ],
   "source": [
    "#- Functions are independent blocks of code that can be called from anywhere, while methods are tied to objects or classes and need an object or class instance to be invoked.\n",
    "#- Functions promote code reusability, while methods offer behavior specific to objects. \n",
    "#- Functions are called by name, while methods are accessed using dot notation. \n",
    "# Example:-\n",
    "#Define a function\n",
    "def factorial(n):\n",
    "    return 1 if (n==1 or n==0) else n * factorial(n-1);\n",
    "#Enter input\n",
    "n = int(input(\"Enter input number : \"))\n",
    "print(\"The factorial of\",n,\"is\",factorial(n))\n",
    "\n",
    "#Define a method\n",
    "class Employee(object):\n",
    "   def my_method(self):\n",
    "      print(\"I am Vikram\")\n",
    "name = Employee()\n",
    "name.my_method()"
   ]
  },
  {
   "cell_type": "markdown",
   "id": "d80027c6-1769-47fa-bb95-425a4837a9b4",
   "metadata": {},
   "source": [
    "##### Q2- Explain the concept of function arguments and parameters in python?"
   ]
  },
  {
   "cell_type": "code",
   "execution_count": 6,
   "id": "070b4f48-fe52-496a-8bcd-a64892c89a91",
   "metadata": {},
   "outputs": [
    {
     "name": "stdin",
     "output_type": "stream",
     "text": [
      "Enter the value of the first number:  3\n",
      "Enter the value of the second number:  5\n"
     ]
    },
    {
     "name": "stdout",
     "output_type": "stream",
     "text": [
      "Sum of two numbers:  8\n"
     ]
    }
   ],
   "source": [
    "# Both arguments and parameters are variables/ constants passed into a function. The difference is that:\n",
    "# - Arguments are the variables passed to the function in the function call.\n",
    "# - Parameters are the variables used in the function definition.\n",
    "# - The number of arguments and parameters should always be equal except for the variable length argument list.\n",
    "# Example:\n",
    "def add_func(a,b):  \n",
    "    sum = a + b  \n",
    "    return sum  \n",
    "num1 = int(input(\"Enter the value of the first number: \"))  \n",
    "num2 = int(input(\"Enter the value of the second number: \")) \n",
    "print(\"Sum of two numbers: \",add_func(num1, num2))  "
   ]
  },
  {
   "cell_type": "markdown",
   "id": "78a0aaf6-b430-435c-8f50-b8c15ae04e2c",
   "metadata": {},
   "source": [
    "##### Q3- What are the different ways to define and call a function in pyhton?"
   ]
  },
  {
   "cell_type": "code",
   "execution_count": 8,
   "id": "7f93532d-ad31-460e-a712-4109dc2d7296",
   "metadata": {},
   "outputs": [
    {
     "name": "stdout",
     "output_type": "stream",
     "text": [
      "Hello World\n"
     ]
    }
   ],
   "source": [
    "# In Python, you define a function with the def keyword, then write the function identifier (name) followed by parentheses and a colon.\n",
    "#Example:\n",
    "def myfunction():\n",
    "    print(\"Hello World\")\n",
    "#To call this function, write the name of the function followed by parentheses:\n",
    "myfunction()"
   ]
  },
  {
   "cell_type": "markdown",
   "id": "77ef22ef-f5c0-499d-a239-88e2ba9cdf2d",
   "metadata": {},
   "source": [
    "##### Q4- what is the purpose of the 'return' statemnet in a python function?"
   ]
  },
  {
   "cell_type": "code",
   "execution_count": 10,
   "id": "4fa2ba99-4c6c-45a1-b385-9563eb7c2ed9",
   "metadata": {},
   "outputs": [
    {
     "name": "stdout",
     "output_type": "stream",
     "text": [
      "Calculated area: 2500\n"
     ]
    }
   ],
   "source": [
    "# The Python return statement marks the end of a function and specifies the value or values to pass back from the function. Return statements can return data of any type, including integers, floats, strings, lists, dictionaries, and even other functions.\n",
    "#syntax:\n",
    "#def function_name(parameter1, parameter2):\n",
    "\t# Function body\n",
    "#\treturn return_value\n",
    "# Example:\n",
    "def calculate_area(length, width):\n",
    "\tarea = length * width\n",
    "\treturn area\n",
    "area = calculate_area(50, 50) # get the result of the function\n",
    "print(f\"Calculated area: {area}\") # use the result of the function"
   ]
  },
  {
   "cell_type": "markdown",
   "id": "78e665e0-7254-45d1-8d92-89757a5d4346",
   "metadata": {},
   "source": [
    "##### Q5- What are iterators in python and how do they differ from iterables?"
   ]
  },
  {
   "cell_type": "code",
   "execution_count": 11,
   "id": "abd4da34-dfc2-4772-9831-78b45f56a5c7",
   "metadata": {},
   "outputs": [
    {
     "name": "stdout",
     "output_type": "stream",
     "text": [
      "Berlin\n",
      "Vienna\n",
      "Zurich\n"
     ]
    }
   ],
   "source": [
    "# An iterator is an object, which is used to iterate over an iterable object using the __next__() method. \n",
    "# Iterators have the __next__() method, which returns the next item of the object.\n",
    "# Whereas, Iterable is an object, that one can iterate over. It generates an Iterator when passed to iter() method. \n",
    "# Example:\n",
    "# list of cities\n",
    "cities = [\"Berlin\", \"Vienna\", \"Zurich\"]\n",
    "# initialize the object\n",
    "iterator_obj = iter(cities)\n",
    "print(next(iterator_obj))\n",
    "print(next(iterator_obj))\n",
    "print(next(iterator_obj))"
   ]
  },
  {
   "cell_type": "markdown",
   "id": "d9ee207f-47d3-4ebe-ba00-381ab907f227",
   "metadata": {},
   "source": [
    "##### Q6- Explain the concept of generators in python and how they are defined."
   ]
  },
  {
   "cell_type": "code",
   "execution_count": 12,
   "id": "f33917f5-7496-4f05-aa15-f0b59419df02",
   "metadata": {},
   "outputs": [
    {
     "name": "stdout",
     "output_type": "stream",
     "text": [
      "1\n",
      "2\n",
      "3\n"
     ]
    }
   ],
   "source": [
    "# A generator function in Python is defined like a normal function, but whenever it needs to generate a value, it does so with the yield keyword rather than return. \n",
    "# If the body of a def contains yield, the function automatically becomes a Python generator function. \n",
    "#Example:-\n",
    "# A generator function that yields 1 for first time,\n",
    "# 2 second time and 3 third time\n",
    "def simpleGeneratorFun():\n",
    "    yield 1            \n",
    "    yield 2            \n",
    "    yield 3            \n",
    "# Driver code to check above generator function\n",
    "for value in simpleGeneratorFun(): \n",
    "    print(value)"
   ]
  },
  {
   "cell_type": "markdown",
   "id": "0c9c827d-dbe2-4dd2-9917-28ac686c67c1",
   "metadata": {},
   "source": [
    "##### Q7- What are the advantages of using geenartors over regular functions?"
   ]
  },
  {
   "cell_type": "code",
   "execution_count": 16,
   "id": "c5ea7273-61ac-4a46-80d0-844eb7bdca9f",
   "metadata": {},
   "outputs": [
    {
     "name": "stdout",
     "output_type": "stream",
     "text": [
      "499999500000\n"
     ]
    }
   ],
   "source": [
    "# Advantages of generators in python are:\n",
    "# -More efficiency \n",
    "# -readibility\n",
    "# -speed\n",
    "# Example:\n",
    "def first_million_numbers():\n",
    "    for i in range(1000000):\n",
    "        yield i\n",
    "gen = first_million_numbers()\n",
    "print(sum(gen))"
   ]
  },
  {
   "cell_type": "markdown",
   "id": "b14c100f-c1c7-4e14-9da9-632d77669180",
   "metadata": {},
   "source": [
    "##### Q8- What is a lambda function in python and when is it typically used?"
   ]
  },
  {
   "cell_type": "code",
   "execution_count": 20,
   "id": "1a9e8a23-56c7-476c-89ba-e5ad50c0fedc",
   "metadata": {},
   "outputs": [
    {
     "data": {
      "text/plain": [
       "5"
      ]
     },
     "execution_count": 20,
     "metadata": {},
     "output_type": "execute_result"
    }
   ],
   "source": [
    "# lambda is a keyword in Python for defining the anonymous function.that can take any number of arguments but, unlike normal functions, evaluates and returns only one expression.\n",
    "# Example:-\n",
    "add = lambda a,b : a + b\n",
    "add(2,3)"
   ]
  },
  {
   "cell_type": "markdown",
   "id": "3687f431-2091-464e-ab08-801fb47c08cf",
   "metadata": {},
   "source": [
    "##### Q9- Explain the purpose and usage of the 'map()' function in python?"
   ]
  },
  {
   "cell_type": "code",
   "execution_count": 22,
   "id": "5abb4841-a3c0-4016-a06d-38038d714f9e",
   "metadata": {},
   "outputs": [
    {
     "name": "stdout",
     "output_type": "stream",
     "text": [
      "<map object at 0x732d8403a920>\n",
      "['appleorange', 'bananalemon', 'cherrypineapple']\n"
     ]
    }
   ],
   "source": [
    "# The map() function executes a specified function for each item in an iterable. The item is sent to the function as a parameter.\n",
    "# Example:-\n",
    "def myfunc(a, b):\n",
    "  return a + b\n",
    "x = map(myfunc, ('apple', 'banana', 'cherry'), ('orange', 'lemon', 'pineapple'))\n",
    "print(x)\n",
    "#convert the map into a list, for readability:\n",
    "print(list(x))"
   ]
  },
  {
   "cell_type": "markdown",
   "id": "203cc1dd-558c-4455-9a8e-0b5a6972626a",
   "metadata": {},
   "source": [
    "##### Q10- What is the difference between 'map()', 'reduce()', and 'filter()' functions in python?"
   ]
  },
  {
   "cell_type": "code",
   "execution_count": 24,
   "id": "635dc9d2-6f5e-41b0-be3e-db94f5e2a5a2",
   "metadata": {},
   "outputs": [],
   "source": [
    "# Map, Filter, and Reduce are built-in Python functions that can be used for functional programming tasks. \n",
    "# With the help of these operations, you may apply a specific function to sequence items using the 'map', filter sequence elements based on a condition using the 'filter', and cumulatively aggregate elements using the 'reduce'.\n",
    "# Example:-\n",
    "# Example of using map, filter, and reduce in Python  \n",
    "data = [1, 2, 3, 4, 5]  \n",
    "# Using the map to apply a function to each element  \n",
    "# Lambda function returns the square of x  \n",
    "result1 = map(lambda x: x * 2, data)  # Result: [2, 4, 6, 8, 10]  \n",
    "# Using the filter to filter elements based on a condition  \n",
    "# Lambda function returns True for an even number  \n",
    "result2 = filter(lambda x: x % 2 == 0, data)  # Result: [2, 4]  \n",
    "# Using reduce to aggregate elements  \n",
    "# Lambda function returns product of x and y  \n",
    "from functools import reduce  \n",
    "result3 = reduce(lambda x, y: x * y, data)  # Result: 120"
   ]
  },
  {
   "cell_type": "markdown",
   "id": "5e532d27-fb67-45bb-b53f-e0ce0bc739b5",
   "metadata": {},
   "source": [
    "##### Q11- Using pen and paper write the internal mechanism for sum operation using reduce function on this given list:[47,11,42,13]:"
   ]
  },
  {
   "cell_type": "code",
   "execution_count": null,
   "id": "7e4d5a48-62c8-4724-865a-caf77f1cefd5",
   "metadata": {},
   "outputs": [],
   "source": []
  },
  {
   "cell_type": "markdown",
   "id": "cb1f2ab3-5e3e-4a43-9b43-e2cead8c178d",
   "metadata": {},
   "source": [
    "## PRACTICAL QUESTION"
   ]
  },
  {
   "cell_type": "markdown",
   "id": "2e7bcabc-e165-4eab-9781-b6927fa7d800",
   "metadata": {},
   "source": [
    "##### Q1-Write a python function that takes a list of numbers as input and returns the sum of all even numbers in the list. "
   ]
  },
  {
   "cell_type": "code",
   "execution_count": 3,
   "id": "9df4e3f4-98f6-486a-ac00-4c98bf4d576d",
   "metadata": {},
   "outputs": [
    {
     "name": "stdout",
     "output_type": "stream",
     "text": [
      "12\n"
     ]
    }
   ],
   "source": [
    "def sum_of_even_numbers(numbers):\n",
    "    return sum(num for num in numbers if num % 2 == 0)\n",
    "# Example usage:\n",
    "numbers = [1, 2, 3, 4, 5, 6]\n",
    "print(sum_of_even_numbers(numbers))   # Output: 12"
   ]
  },
  {
   "cell_type": "markdown",
   "id": "1a73fa90-1377-43cf-a31f-f79638e80b0f",
   "metadata": {},
   "source": [
    "##### Q2- Create a python function that accepts a string and returns the reverse of that string."
   ]
  },
  {
   "cell_type": "code",
   "execution_count": 4,
   "id": "f66781a4-884d-4802-a921-aee90c57ac5f",
   "metadata": {},
   "outputs": [
    {
     "name": "stdout",
     "output_type": "stream",
     "text": [
      "olleh\n"
     ]
    }
   ],
   "source": [
    "def reverse_string(s):\n",
    "    return s[::-1]\n",
    "# Example usage:\n",
    "input_string = \"hello\"\n",
    "print(reverse_string(input_string)) # Output: \"olleh\""
   ]
  },
  {
   "cell_type": "markdown",
   "id": "fa63aa78-aae2-4a9c-a177-b2ed64344118",
   "metadata": {},
   "source": [
    "##### Q3- Implement a python funtion that takes a lsit of inetgers and returns a new list containing the sqaures of each numbers."
   ]
  },
  {
   "cell_type": "code",
   "execution_count": 5,
   "id": "53fb61fa-7839-4a0b-b54e-7e24c93fa623",
   "metadata": {},
   "outputs": [
    {
     "name": "stdout",
     "output_type": "stream",
     "text": [
      "[1, 4, 9, 16, 25]\n"
     ]
    }
   ],
   "source": [
    "def square_numbers(numbers):\n",
    "    return [num ** 2 for num in numbers]\n",
    "# Example usage:\n",
    "numbers = [1, 2, 3, 4, 5]\n",
    "print(square_numbers(numbers))  # Output: [1, 4, 9, 16, 25]"
   ]
  },
  {
   "cell_type": "markdown",
   "id": "9aae2e3b-e99a-4ba4-9b36-32ce9b95dd39",
   "metadata": {},
   "source": [
    "##### Q4- Write a Python function that checks if a given number is prime or not from 1 to 100."
   ]
  },
  {
   "cell_type": "code",
   "execution_count": 6,
   "id": "00d6b1a7-9e34-4ddb-8289-bebdbec93216",
   "metadata": {},
   "outputs": [
    {
     "name": "stdout",
     "output_type": "stream",
     "text": [
      "True\n"
     ]
    }
   ],
   "source": [
    "def is_prime(n):\n",
    "    if n < 2:\n",
    "        return False\n",
    "    for i in range(2, int(n ** 0.5) + 1):\n",
    "        if n % i == 0:\n",
    "            return False\n",
    "    return True\n",
    "# Example usage:\n",
    "number = 29\n",
    "print(is_prime(number))  # Output: True"
   ]
  },
  {
   "cell_type": "markdown",
   "id": "0a08411b-7358-4edc-90b1-73575300bcd0",
   "metadata": {},
   "source": [
    "##### Q5-  Create an iterator class in Python that generates the Fibonacci sequence up to a specified number of terms.\n"
   ]
  },
  {
   "cell_type": "code",
   "execution_count": 7,
   "id": "db0d2447-3ac2-4bce-a0ec-9cab9502c67a",
   "metadata": {},
   "outputs": [
    {
     "name": "stdout",
     "output_type": "stream",
     "text": [
      "0\n",
      "1\n",
      "1\n",
      "2\n",
      "3\n",
      "5\n",
      "8\n",
      "13\n",
      "21\n",
      "34\n"
     ]
    }
   ],
   "source": [
    "class FibonacciIterator:\n",
    "    def __init__(self, terms):\n",
    "        self.terms = terms  # Total number of terms to generate\n",
    "        self.current = 0    # To track the current number of terms generated\n",
    "        self.a, self.b = 0, 1  # First two numbers in Fibonacci sequence\n",
    "    def __iter__(self):\n",
    "        return self\n",
    "    def __next__(self):\n",
    "        if self.current >= self.terms:\n",
    "            raise StopIteration  # Stop when the specified number of terms is reached\n",
    "        if self.current == 0:\n",
    "            self.current += 1\n",
    "            return self.a\n",
    "        elif self.current == 1:\n",
    "            self.current += 1\n",
    "            return self.b\n",
    "        else:\n",
    "            self.a, self.b = self.b, self.a + self.b\n",
    "            self.current += 1\n",
    "            return self.b\n",
    "# Example usage:\n",
    "fib = FibonacciIterator(10)  # Generates first 10 Fibonacci numbers\n",
    "for num in fib:\n",
    "    print(num)"
   ]
  },
  {
   "cell_type": "markdown",
   "id": "563adc1d-2bef-4b94-b42f-d8f51991f178",
   "metadata": {},
   "source": [
    "##### Q6-  Write a generator function in Python that yields the powers of 2 up to a given exponent."
   ]
  },
  {
   "cell_type": "code",
   "execution_count": 8,
   "id": "910a40a3-bbaa-4655-9b3c-d83109d2078e",
   "metadata": {},
   "outputs": [
    {
     "name": "stdout",
     "output_type": "stream",
     "text": [
      "1\n",
      "2\n",
      "4\n",
      "8\n",
      "16\n",
      "32\n"
     ]
    }
   ],
   "source": [
    "def powers_of_two(max_exponent):\n",
    "    for exponent in range(max_exponent + 1):\n",
    "        yield 2 ** exponent\n",
    "# Example usage:\n",
    "for value in powers_of_two(5):  # Yields powers of 2 up to 2^5\n",
    "    print(value)"
   ]
  },
  {
   "cell_type": "markdown",
   "id": "799dbd24-15a7-4d71-8d70-c1b8f52713bd",
   "metadata": {},
   "source": [
    "##### Q7-Implement a generator function that reads a file line by line and yields each line as a string."
   ]
  },
  {
   "cell_type": "code",
   "execution_count": 2,
   "id": "a6c14aa3-36a6-4170-b5b5-9d200f626d28",
   "metadata": {},
   "outputs": [],
   "source": [
    "def read_file_line_by_line(file_path):\n",
    "    with open(file_path, 'r') as file:\n",
    "        for line in file:\n",
    "            yield line.strip()  # .strip() removes the newline character\n",
    "# Example usage:\n",
    "# for line in read_file_line_by_line('example.txt'):\n",
    "#     print(line)"
   ]
  },
  {
   "cell_type": "markdown",
   "id": "1222e121-b8db-4ec7-8547-9687c10b9d06",
   "metadata": {},
   "source": [
    "##### Q8- Use a lambda function in Python to sort a list of tuples based on the second element of each tuple."
   ]
  },
  {
   "cell_type": "code",
   "execution_count": 1,
   "id": "bd66283e-9c12-4bd3-8e9d-ab7d835e7875",
   "metadata": {},
   "outputs": [
    {
     "name": "stdout",
     "output_type": "stream",
     "text": [
      "[(2, 1), (4, 2), (3, 3), (1, 4)]\n"
     ]
    }
   ],
   "source": [
    "# Sample list of tuples\n",
    "data = [(1, 4), (2, 1), (3, 3), (4, 2)]\n",
    "# Sorting using lambda function\n",
    "sorted_data = sorted(data, key=lambda x: x[1])\n",
    "print(sorted_data)"
   ]
  },
  {
   "cell_type": "markdown",
   "id": "99d27900-d054-44e4-9b3e-31f7dad04779",
   "metadata": {},
   "source": [
    "##### Q9- Write a Python program that uses `map()` to convert a list of temperatures from Celsius to Fahrenheit."
   ]
  },
  {
   "cell_type": "code",
   "execution_count": 3,
   "id": "64250081-f7d2-4bdf-948f-072a907ff22c",
   "metadata": {},
   "outputs": [
    {
     "name": "stdout",
     "output_type": "stream",
     "text": [
      "[32.0, 68.0, 98.6, 212.0]\n"
     ]
    }
   ],
   "source": [
    "# Function to convert Celsius to Fahrenheit\n",
    "def celsius_to_fahrenheit(celsius):\n",
    "    return (celsius * 9/5) + 32\n",
    "# List of temperatures in Celsius\n",
    "celsius_temperatures = [0, 20, 37, 100]\n",
    "# Using map to apply the conversion to each element\n",
    "fahrenheit_temperatures = list(map(celsius_to_fahrenheit, celsius_temperatures))\n",
    "# Display the converted temperatures\n",
    "print(fahrenheit_temperatures)"
   ]
  },
  {
   "cell_type": "markdown",
   "id": "7d1dc92e-b737-4645-82d1-bf8d14209170",
   "metadata": {},
   "source": [
    "##### Q10- . Create a Python program that uses `filter()` to remove all the vowels from a given string."
   ]
  },
  {
   "cell_type": "code",
   "execution_count": 6,
   "id": "35bf4706-dd3f-4b2c-8de0-56de353df137",
   "metadata": {},
   "outputs": [
    {
     "name": "stdout",
     "output_type": "stream",
     "text": [
      "Hll, Wrld!\n"
     ]
    }
   ],
   "source": [
    "def is_not_vowel(char):\n",
    "    return char.lower() not in 'aeiou'\n",
    "def remove_vowels(input_string):\n",
    "    # Use filter to apply is_not_vowel to each character in the input_string\n",
    "    filtered_chars = filter(is_not_vowel, input_string)\n",
    "    # Join the filtered characters back into a string\n",
    "    return ''.join(filtered_chars)\n",
    "# Example usage:\n",
    "input_string = \"Hello, World!\"\n",
    "result = remove_vowels(input_string)\n",
    "print(result)  # Output: \"Hll, Wrld!\""
   ]
  },
  {
   "cell_type": "code",
   "execution_count": null,
   "id": "f87b6a07-c5de-435b-83ce-0e221895627d",
   "metadata": {},
   "outputs": [],
   "source": [
    "##### Q11- Imagine an  accounting routine used in a book shop it works on a list with sublists which look like this\n",
    "order number       book title and author                           Quantity      Price per item\n",
    "34587                Learning python, mark lutz                          4                    40.95\n",
    "98762             programming python, mark lutz                          5                     56.80\n",
    "77226               head first python, paul barry                        3                      32.95\n",
    "88112                einfuhrung in pyhton3, bernd klien                  3                      24.99\n",
    "Write a python program which returns a list with 2 tuples each tuple contains of the order number and the product of the price per item and the quantity the product should be increased by 10, -C if the value of the order is smaller than 100,00 -C\n",
    "write a python program using lambda and map"
   ]
  },
  {
   "cell_type": "code",
   "execution_count": 5,
   "id": "19a70adc-8529-49cf-b534-5603d0134001",
   "metadata": {},
   "outputs": [
    {
     "name": "stdout",
     "output_type": "stream",
     "text": [
      "[(34587, 163.8), (98762, 284.0), (77226, 108.85000000000001), (88112, 84.97)]\n"
     ]
    }
   ],
   "source": [
    "# List of orders: [order number, book title and author, Quantity, Price per item]\n",
    "orders = [\n",
    "    [34587, 'Learning Python, Mark Lutz', 4, 40.95],\n",
    "    [98762, 'Programming Python, Mark Lutz', 5, 56.80],\n",
    "    [77226, 'Head First Python, Paul Barry', 3, 32.95],\n",
    "    [88112, 'Einfuhrung in Python3, Bernd Klein', 3, 24.99]\n",
    "]\n",
    "# Function to calculate order value and apply discount\n",
    "def calculate_order(order):\n",
    "    order_number, _, quantity, price_per_item = order\n",
    "    total_value = quantity * price_per_item\n",
    "    # Apply the discount\n",
    "    if total_value < 100:\n",
    "        total_value += 10\n",
    "    return (order_number, total_value)\n",
    "# Use map with a lambda function to apply the calculate_order function to each order\n",
    "results = list(map(lambda order: calculate_order(order), orders))\n",
    "# Print the results\n",
    "print(results)"
   ]
  },
  {
   "cell_type": "code",
   "execution_count": null,
   "id": "3aa0a003-75d7-424a-9187-b74ce9285924",
   "metadata": {},
   "outputs": [],
   "source": []
  }
 ],
 "metadata": {
  "kernelspec": {
   "display_name": "Python 3 (ipykernel)",
   "language": "python",
   "name": "python3"
  },
  "language_info": {
   "codemirror_mode": {
    "name": "ipython",
    "version": 3
   },
   "file_extension": ".py",
   "mimetype": "text/x-python",
   "name": "python",
   "nbconvert_exporter": "python",
   "pygments_lexer": "ipython3",
   "version": "3.10.8"
  }
 },
 "nbformat": 4,
 "nbformat_minor": 5
}
